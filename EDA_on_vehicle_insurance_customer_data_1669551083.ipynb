{
 "cells": [
  {
   "cell_type": "markdown",
   "id": "e670aac3",
   "metadata": {},
   "source": [
    "## EDA on vehicle insurance customer data"
   ]
  },
  {
   "cell_type": "code",
   "execution_count": 1,
   "id": "576e84e3",
   "metadata": {},
   "outputs": [],
   "source": [
    "import pandas"
   ]
  },
  {
   "cell_type": "code",
   "execution_count": 2,
   "id": "1321a389",
   "metadata": {},
   "outputs": [
    {
     "name": "stdout",
     "output_type": "stream",
     "text": [
      "   0       1   2  3    4  5      6    7\n",
      "0  1    Male  44  1   21  0  <1yrs  Yes\n",
      "1  2    Male  34  1    5  1  >2yrs   No\n",
      "2  3  Female  23  1  323  0  >3yrs  Yes\n",
      "3  4    Male  54  1  225  1  <1yrs  Yes\n",
      "4  5  Female  33  1   87  1  <2yrs   No\n",
      "   0      1    2    3  4\n",
      "0  1  23600   11  211  1\n",
      "1  2  34246   11  112  0\n",
      "2  3  32732  231  232  1\n",
      "3  4  32754  122  211  0\n",
      "4  5  24322  122   99  0\n"
     ]
    }
   ],
   "source": [
    "table1 = pandas.read_csv(\"customer_details.csv\")\n",
    "table2 = pandas.read_csv(\"customer_policy_details.csv\")\n",
    "print(table1.head())\n",
    "print(table2.head())"
   ]
  },
  {
   "cell_type": "code",
   "execution_count": 3,
   "id": "fe97b19b",
   "metadata": {},
   "outputs": [],
   "source": [
    "table1_labels={'0':'customer_id','1':'gender','2':'age','3':'driving_licence_presence','4':'region_code','5':'previously_insured','6':'vehicle_age','7':'vehicle_damage'}"
   ]
  },
  {
   "cell_type": "code",
   "execution_count": 4,
   "id": "647ef8a2",
   "metadata": {},
   "outputs": [
    {
     "name": "stdout",
     "output_type": "stream",
     "text": [
      "number of cells of customer_id with null values = 0\n",
      "number of cells of gender with null values = 0\n",
      "number of cells of age with null values = 0\n",
      "number of cells of driving_licence_presence with null values = 0\n",
      "number of cells of region_code with null values = 0\n",
      "number of cells of previously_insured with null values = 0\n",
      "number of cells of vehicle_age with null values = 0\n",
      "number of cells of vehicle_damage with null values = 0\n",
      "<class 'pandas.core.frame.DataFrame'>\n",
      "RangeIndex: 5 entries, 0 to 4\n",
      "Data columns (total 8 columns):\n",
      " #   Column  Non-Null Count  Dtype \n",
      "---  ------  --------------  ----- \n",
      " 0   0       5 non-null      int64 \n",
      " 1   1       5 non-null      object\n",
      " 2   2       5 non-null      int64 \n",
      " 3   3       5 non-null      int64 \n",
      " 4   4       5 non-null      int64 \n",
      " 5   5       5 non-null      int64 \n",
      " 6   6       5 non-null      object\n",
      " 7   7       5 non-null      object\n",
      "dtypes: int64(5), object(3)\n",
      "memory usage: 448.0+ bytes\n"
     ]
    }
   ],
   "source": [
    "for i in range(table1.shape[1]):\n",
    "    print(f\"number of cells of {table1_labels[str(i)]} with null values = {table1[str(i)].isnull().sum()}\")\n",
    "table1.info()"
   ]
  },
  {
   "cell_type": "code",
   "execution_count": 5,
   "id": "a2f74226",
   "metadata": {},
   "outputs": [
    {
     "name": "stdout",
     "output_type": "stream",
     "text": [
      "number of cells of customer_id with null values= 0\n"
     ]
    }
   ],
   "source": [
    "table1.dropna(subset=['0'],inplace=True)\n",
    "print(f\"number of cells of {table1_labels[str(0)]} with null values= {table1[str(0)].isnull().sum()}\")"
   ]
  },
  {
   "cell_type": "code",
   "execution_count": 6,
   "id": "37a296e2",
   "metadata": {},
   "outputs": [
    {
     "name": "stdout",
     "output_type": "stream",
     "text": [
      "number of cells of age with null values= 0\n",
      "number of cells of driving_licence_presence with null values= 0\n",
      "number of cells of region_code with null values= 0\n",
      "number of cells of previously_insured with null values= 0\n"
     ]
    }
   ],
   "source": [
    "for i in range(2,6):\n",
    "    table1[str(i)].fillna(table1[str(i)].mean(),inplace=True)\n",
    "    print(f\"number of cells of {table1_labels[str(i)]} with null values= {table1[str(i)].isnull().sum()}\")"
   ]
  },
  {
   "cell_type": "code",
   "execution_count": 7,
   "id": "56af9ad3",
   "metadata": {},
   "outputs": [
    {
     "name": "stdout",
     "output_type": "stream",
     "text": [
      "number of cells of gender with null values= 0\n",
      "number of cells of vehicle_age with null values= 0\n",
      "number of cells of vehicle_damage with null values= 0\n"
     ]
    }
   ],
   "source": [
    "for i in [1,6,7]:\n",
    "    table1[str(i)].fillna(table1[str(i)].mode()[0],inplace=True)\n",
    "    print(f\"number of cells of {table1_labels[str(i)]} with null values= {table1[str(i)].isnull().sum()}\")"
   ]
  },
  {
   "cell_type": "code",
   "execution_count": 8,
   "id": "8602e6c0",
   "metadata": {},
   "outputs": [],
   "source": [
    "table2_labels={'0':'customer_id','1':'annual_premium_INR','2':'sales_channel_code','3':'vintage','4':'response'}"
   ]
  },
  {
   "cell_type": "code",
   "execution_count": 9,
   "id": "20d26ffe",
   "metadata": {},
   "outputs": [
    {
     "name": "stdout",
     "output_type": "stream",
     "text": [
      "number of cells of customer_id with null values is 0\n",
      "number of cells of annual_premium_INR with null values is 0\n",
      "number of cells of sales_channel_code with null values is 0\n",
      "number of cells of vintage with null values is 0\n",
      "number of cells of response with null values is 0\n",
      "<class 'pandas.core.frame.DataFrame'>\n",
      "RangeIndex: 5 entries, 0 to 4\n",
      "Data columns (total 5 columns):\n",
      " #   Column  Non-Null Count  Dtype\n",
      "---  ------  --------------  -----\n",
      " 0   0       5 non-null      int64\n",
      " 1   1       5 non-null      int64\n",
      " 2   2       5 non-null      int64\n",
      " 3   3       5 non-null      int64\n",
      " 4   4       5 non-null      int64\n",
      "dtypes: int64(5)\n",
      "memory usage: 328.0 bytes\n"
     ]
    }
   ],
   "source": [
    "for i in range(table2.shape[1]):\n",
    "    print(f\"number of cells of {table2_labels[str(i)]} with null values is {table2[str(i)].isnull().sum()}\")\n",
    "table2.info()"
   ]
  },
  {
   "cell_type": "code",
   "execution_count": 10,
   "id": "b71c7ab6",
   "metadata": {},
   "outputs": [
    {
     "name": "stdout",
     "output_type": "stream",
     "text": [
      "number of cells of customer_id with null values= 0\n"
     ]
    }
   ],
   "source": [
    "table2.dropna(subset=['0'],inplace=True)\n",
    "print(f\"number of cells of {table2_labels[str(0)]} with null values= {table2[str(0)].isnull().sum()}\")"
   ]
  },
  {
   "cell_type": "code",
   "execution_count": 11,
   "id": "cccc1090",
   "metadata": {},
   "outputs": [
    {
     "name": "stdout",
     "output_type": "stream",
     "text": [
      "number of cells of annual_premium_INR with null values= 0\n",
      "number of cells of sales_channel_code with null values= 0\n",
      "number of cells of vintage with null values= 0\n",
      "number of cells of response with null values= 0\n"
     ]
    }
   ],
   "source": [
    "for i in range(1,5):\n",
    "    table2[str(i)].fillna(table2[str(i)].mean(),inplace=True)\n",
    "    print(f\"number of cells of {table2_labels[str(i)]} with null values= {table2[str(i)].isnull().sum()}\")"
   ]
  },
  {
   "cell_type": "code",
   "execution_count": 12,
   "id": "b2330747",
   "metadata": {},
   "outputs": [
    {
     "data": {
      "text/plain": [
       "{'2': (16.5, 60.5), '3': (1.0, 1.0), '4': (-285.0, 531.0), '5': (-1.5, 2.5)}"
      ]
     },
     "execution_count": 12,
     "metadata": {},
     "output_type": "execute_result"
    }
   ],
   "source": [
    "table1_limits={}\n",
    "for i in range(2,6):\n",
    "    computations=table1[str(i)].describe(percentiles=[.25,.75])\n",
    "    mean=computations.values[1]\n",
    "    Q1=computations.values[4]\n",
    "    Q3=computations.values[6]\n",
    "    IQR=Q3-Q1\n",
    "    II=Q1-1.5*IQR\n",
    "    hI=Q3+1.5*IQR\n",
    "    table1_limits[str(i)]=(II,hI)\n",
    "table1_limits"
   ]
  },
  {
   "cell_type": "code",
   "execution_count": 13,
   "id": "3a3bdd89",
   "metadata": {},
   "outputs": [],
   "source": [
    "table1_outliners={'2':0,'3':0,'4':0,'5':0,'6':0}"
   ]
  },
  {
   "cell_type": "code",
   "execution_count": 14,
   "id": "7fe5cb69",
   "metadata": {},
   "outputs": [
    {
     "data": {
      "text/plain": [
       "{'2': 0, '3': 0, '4': 0, '5': 0, '6': 0}"
      ]
     },
     "execution_count": 14,
     "metadata": {},
     "output_type": "execute_result"
    }
   ],
   "source": [
    "for j in table1.index:\n",
    "    for i in range(2,6):\n",
    "        if (table1_limits[str(i)][0]!=table1_limits[str(i)][1]) and (table1.loc[j,str(i)]>table1_limits[str(i)][1] or table1.loc[j,str(i)]<table1_limits[str(i)][0]):\n",
    "            table1_outliners[str(i)]+=1\n",
    "table1_outliners"
   ]
  },
  {
   "cell_type": "code",
   "execution_count": 15,
   "id": "b7bd983a",
   "metadata": {},
   "outputs": [],
   "source": [
    "for j in table1.index:\n",
    "    for i in range(2,6):\n",
    "        if table1.loc[j,str(i)]<table1_limits[str(i)][0]:\n",
    "            table1.loc[j,str(i)]=table1[str(i)].mean()\n",
    "        if table1.loc[j,str(i)]>table1_limits[str(i)][1]:\n",
    "            table.loc[j,str(i)]=table1[str(i)].mean()"
   ]
  },
  {
   "cell_type": "code",
   "execution_count": 16,
   "id": "a00783b1",
   "metadata": {},
   "outputs": [
    {
     "data": {
      "text/plain": [
       "{'1': (11674.0, 45402.0),\n",
       " '2': (-155.5, 288.5),\n",
       " '3': (-36.5, 359.5),\n",
       " '4': (-1.5, 2.5)}"
      ]
     },
     "execution_count": 16,
     "metadata": {},
     "output_type": "execute_result"
    }
   ],
   "source": [
    "table2_limits={}\n",
    "for i in range(1,5):\n",
    "    computations=table2[str(i)].describe(percentiles=[.25,.75])\n",
    "    mean=computations.values[1]\n",
    "    Q1=computations.values[4]\n",
    "    Q3=computations.values[6]\n",
    "    IQR=Q3-Q1\n",
    "    II=Q1-1.5*IQR\n",
    "    hI=Q3+1.5*IQR\n",
    "    table2_limits[str(i)]=(II,hI)\n",
    "table2_limits"
   ]
  },
  {
   "cell_type": "code",
   "execution_count": 17,
   "id": "ae7cc4c2",
   "metadata": {},
   "outputs": [
    {
     "data": {
      "text/plain": [
       "{'1': 0, '2': 0, '3': 0, '4': 0, '5': 0}"
      ]
     },
     "execution_count": 17,
     "metadata": {},
     "output_type": "execute_result"
    }
   ],
   "source": [
    "table2_outliners={'1':0,'2':0,'3':0,'4':0,'5':0}\n",
    "for j in table2.index:\n",
    "    for i in range(1,5):\n",
    "        if (table2_limits[str(i)][0]!=table2_limits[str(i)][1]) and (table2.loc[j,str(i)]>table2_limits[str(i)][1] or table2.loc[j,str(i)]<table2_limits[str(i)][0]):\n",
    "            table2_outliners[str(i)]+=1\n",
    "table2_outliners"
   ]
  },
  {
   "cell_type": "code",
   "execution_count": 18,
   "id": "b38f1231",
   "metadata": {},
   "outputs": [],
   "source": [
    "for j in table2.index:\n",
    "    for i in range(1,5):\n",
    "        if table2.loc[j,str(i)]<table2_limits[str(i)][0]:\n",
    "            table2.loc[j,str(i)]=table2[str(i)].mean()\n",
    "        if table2.loc[j,str(i)]>table2_limits[str(i)][1]:\n",
    "            table2.loc[j,str(i)]=table2[str(i)].mean()"
   ]
  },
  {
   "cell_type": "code",
   "execution_count": 19,
   "id": "8e541570",
   "metadata": {},
   "outputs": [
    {
     "data": {
      "text/html": [
       "<div>\n",
       "<style scoped>\n",
       "    .dataframe tbody tr th:only-of-type {\n",
       "        vertical-align: middle;\n",
       "    }\n",
       "\n",
       "    .dataframe tbody tr th {\n",
       "        vertical-align: top;\n",
       "    }\n",
       "\n",
       "    .dataframe thead th {\n",
       "        text-align: right;\n",
       "    }\n",
       "</style>\n",
       "<table border=\"1\" class=\"dataframe\">\n",
       "  <thead>\n",
       "    <tr style=\"text-align: right;\">\n",
       "      <th></th>\n",
       "      <th>0</th>\n",
       "      <th>1</th>\n",
       "      <th>2</th>\n",
       "      <th>3</th>\n",
       "      <th>4</th>\n",
       "      <th>5</th>\n",
       "      <th>6</th>\n",
       "      <th>7</th>\n",
       "    </tr>\n",
       "  </thead>\n",
       "  <tbody>\n",
       "    <tr>\n",
       "      <th>0</th>\n",
       "      <td>1</td>\n",
       "      <td>Male</td>\n",
       "      <td>44</td>\n",
       "      <td>1</td>\n",
       "      <td>21</td>\n",
       "      <td>0</td>\n",
       "      <td>&lt;1yrs</td>\n",
       "      <td>Yes</td>\n",
       "    </tr>\n",
       "    <tr>\n",
       "      <th>1</th>\n",
       "      <td>2</td>\n",
       "      <td>Male</td>\n",
       "      <td>34</td>\n",
       "      <td>1</td>\n",
       "      <td>5</td>\n",
       "      <td>1</td>\n",
       "      <td>&gt;2yrs</td>\n",
       "      <td>No</td>\n",
       "    </tr>\n",
       "    <tr>\n",
       "      <th>2</th>\n",
       "      <td>3</td>\n",
       "      <td>Female</td>\n",
       "      <td>23</td>\n",
       "      <td>1</td>\n",
       "      <td>323</td>\n",
       "      <td>0</td>\n",
       "      <td>&gt;3yrs</td>\n",
       "      <td>Yes</td>\n",
       "    </tr>\n",
       "    <tr>\n",
       "      <th>3</th>\n",
       "      <td>4</td>\n",
       "      <td>Male</td>\n",
       "      <td>54</td>\n",
       "      <td>1</td>\n",
       "      <td>225</td>\n",
       "      <td>1</td>\n",
       "      <td>&lt;1yrs</td>\n",
       "      <td>Yes</td>\n",
       "    </tr>\n",
       "    <tr>\n",
       "      <th>4</th>\n",
       "      <td>5</td>\n",
       "      <td>Female</td>\n",
       "      <td>33</td>\n",
       "      <td>1</td>\n",
       "      <td>87</td>\n",
       "      <td>1</td>\n",
       "      <td>&lt;2yrs</td>\n",
       "      <td>No</td>\n",
       "    </tr>\n",
       "  </tbody>\n",
       "</table>\n",
       "</div>"
      ],
      "text/plain": [
       "   0       1   2  3    4  5      6    7\n",
       "0  1    Male  44  1   21  0  <1yrs  Yes\n",
       "1  2    Male  34  1    5  1  >2yrs   No\n",
       "2  3  Female  23  1  323  0  >3yrs  Yes\n",
       "3  4    Male  54  1  225  1  <1yrs  Yes\n",
       "4  5  Female  33  1   87  1  <2yrs   No"
      ]
     },
     "execution_count": 19,
     "metadata": {},
     "output_type": "execute_result"
    }
   ],
   "source": [
    "table1.apply(lambda x:x.str.strip() if x.dtype == \"object\" else x)"
   ]
  },
  {
   "cell_type": "code",
   "execution_count": 20,
   "id": "ecd0c4ef",
   "metadata": {},
   "outputs": [
    {
     "data": {
      "text/html": [
       "<div>\n",
       "<style scoped>\n",
       "    .dataframe tbody tr th:only-of-type {\n",
       "        vertical-align: middle;\n",
       "    }\n",
       "\n",
       "    .dataframe tbody tr th {\n",
       "        vertical-align: top;\n",
       "    }\n",
       "\n",
       "    .dataframe thead th {\n",
       "        text-align: right;\n",
       "    }\n",
       "</style>\n",
       "<table border=\"1\" class=\"dataframe\">\n",
       "  <thead>\n",
       "    <tr style=\"text-align: right;\">\n",
       "      <th></th>\n",
       "      <th>0</th>\n",
       "      <th>1</th>\n",
       "      <th>2</th>\n",
       "      <th>3</th>\n",
       "      <th>4</th>\n",
       "    </tr>\n",
       "  </thead>\n",
       "  <tbody>\n",
       "    <tr>\n",
       "      <th>0</th>\n",
       "      <td>1</td>\n",
       "      <td>23600</td>\n",
       "      <td>11</td>\n",
       "      <td>211</td>\n",
       "      <td>1</td>\n",
       "    </tr>\n",
       "    <tr>\n",
       "      <th>1</th>\n",
       "      <td>2</td>\n",
       "      <td>34246</td>\n",
       "      <td>11</td>\n",
       "      <td>112</td>\n",
       "      <td>0</td>\n",
       "    </tr>\n",
       "    <tr>\n",
       "      <th>2</th>\n",
       "      <td>3</td>\n",
       "      <td>32732</td>\n",
       "      <td>231</td>\n",
       "      <td>232</td>\n",
       "      <td>1</td>\n",
       "    </tr>\n",
       "    <tr>\n",
       "      <th>3</th>\n",
       "      <td>4</td>\n",
       "      <td>32754</td>\n",
       "      <td>122</td>\n",
       "      <td>211</td>\n",
       "      <td>0</td>\n",
       "    </tr>\n",
       "    <tr>\n",
       "      <th>4</th>\n",
       "      <td>5</td>\n",
       "      <td>24322</td>\n",
       "      <td>122</td>\n",
       "      <td>99</td>\n",
       "      <td>0</td>\n",
       "    </tr>\n",
       "  </tbody>\n",
       "</table>\n",
       "</div>"
      ],
      "text/plain": [
       "   0      1    2    3  4\n",
       "0  1  23600   11  211  1\n",
       "1  2  34246   11  112  0\n",
       "2  3  32732  231  232  1\n",
       "3  4  32754  122  211  0\n",
       "4  5  24322  122   99  0"
      ]
     },
     "execution_count": 20,
     "metadata": {},
     "output_type": "execute_result"
    }
   ],
   "source": [
    "table2.apply(lambda x:x.str.strip() if x.dtype == \"object\" else x)"
   ]
  },
  {
   "cell_type": "code",
   "execution_count": 21,
   "id": "aff1c468",
   "metadata": {},
   "outputs": [
    {
     "data": {
      "text/html": [
       "<div>\n",
       "<style scoped>\n",
       "    .dataframe tbody tr th:only-of-type {\n",
       "        vertical-align: middle;\n",
       "    }\n",
       "\n",
       "    .dataframe tbody tr th {\n",
       "        vertical-align: top;\n",
       "    }\n",
       "\n",
       "    .dataframe thead th {\n",
       "        text-align: right;\n",
       "    }\n",
       "</style>\n",
       "<table border=\"1\" class=\"dataframe\">\n",
       "  <thead>\n",
       "    <tr style=\"text-align: right;\">\n",
       "      <th></th>\n",
       "      <th>0</th>\n",
       "      <th>1</th>\n",
       "      <th>2</th>\n",
       "      <th>3</th>\n",
       "      <th>4</th>\n",
       "      <th>5</th>\n",
       "      <th>6</th>\n",
       "      <th>7</th>\n",
       "    </tr>\n",
       "  </thead>\n",
       "  <tbody>\n",
       "    <tr>\n",
       "      <th>0</th>\n",
       "      <td>1</td>\n",
       "      <td>male</td>\n",
       "      <td>44</td>\n",
       "      <td>1</td>\n",
       "      <td>21</td>\n",
       "      <td>0</td>\n",
       "      <td>&lt;1yrs</td>\n",
       "      <td>yes</td>\n",
       "    </tr>\n",
       "    <tr>\n",
       "      <th>1</th>\n",
       "      <td>2</td>\n",
       "      <td>male</td>\n",
       "      <td>34</td>\n",
       "      <td>1</td>\n",
       "      <td>5</td>\n",
       "      <td>1</td>\n",
       "      <td>&gt;2yrs</td>\n",
       "      <td>no</td>\n",
       "    </tr>\n",
       "    <tr>\n",
       "      <th>2</th>\n",
       "      <td>3</td>\n",
       "      <td>female</td>\n",
       "      <td>23</td>\n",
       "      <td>1</td>\n",
       "      <td>323</td>\n",
       "      <td>0</td>\n",
       "      <td>&gt;3yrs</td>\n",
       "      <td>yes</td>\n",
       "    </tr>\n",
       "    <tr>\n",
       "      <th>3</th>\n",
       "      <td>4</td>\n",
       "      <td>male</td>\n",
       "      <td>54</td>\n",
       "      <td>1</td>\n",
       "      <td>225</td>\n",
       "      <td>1</td>\n",
       "      <td>&lt;1yrs</td>\n",
       "      <td>yes</td>\n",
       "    </tr>\n",
       "    <tr>\n",
       "      <th>4</th>\n",
       "      <td>5</td>\n",
       "      <td>female</td>\n",
       "      <td>33</td>\n",
       "      <td>1</td>\n",
       "      <td>87</td>\n",
       "      <td>1</td>\n",
       "      <td>&lt;2yrs</td>\n",
       "      <td>no</td>\n",
       "    </tr>\n",
       "  </tbody>\n",
       "</table>\n",
       "</div>"
      ],
      "text/plain": [
       "   0       1   2  3    4  5      6    7\n",
       "0  1    male  44  1   21  0  <1yrs  yes\n",
       "1  2    male  34  1    5  1  >2yrs   no\n",
       "2  3  female  23  1  323  0  >3yrs  yes\n",
       "3  4    male  54  1  225  1  <1yrs  yes\n",
       "4  5  female  33  1   87  1  <2yrs   no"
      ]
     },
     "execution_count": 21,
     "metadata": {},
     "output_type": "execute_result"
    }
   ],
   "source": [
    "table1.apply(lambda x:x.str.lower() if x.dtype == \"object\" else x) "
   ]
  },
  {
   "cell_type": "code",
   "execution_count": 22,
   "id": "deefcc58",
   "metadata": {},
   "outputs": [
    {
     "data": {
      "text/html": [
       "<div>\n",
       "<style scoped>\n",
       "    .dataframe tbody tr th:only-of-type {\n",
       "        vertical-align: middle;\n",
       "    }\n",
       "\n",
       "    .dataframe tbody tr th {\n",
       "        vertical-align: top;\n",
       "    }\n",
       "\n",
       "    .dataframe thead th {\n",
       "        text-align: right;\n",
       "    }\n",
       "</style>\n",
       "<table border=\"1\" class=\"dataframe\">\n",
       "  <thead>\n",
       "    <tr style=\"text-align: right;\">\n",
       "      <th></th>\n",
       "      <th>0</th>\n",
       "      <th>1</th>\n",
       "      <th>2</th>\n",
       "      <th>3</th>\n",
       "      <th>4</th>\n",
       "    </tr>\n",
       "  </thead>\n",
       "  <tbody>\n",
       "    <tr>\n",
       "      <th>0</th>\n",
       "      <td>1</td>\n",
       "      <td>23600</td>\n",
       "      <td>11</td>\n",
       "      <td>211</td>\n",
       "      <td>1</td>\n",
       "    </tr>\n",
       "    <tr>\n",
       "      <th>1</th>\n",
       "      <td>2</td>\n",
       "      <td>34246</td>\n",
       "      <td>11</td>\n",
       "      <td>112</td>\n",
       "      <td>0</td>\n",
       "    </tr>\n",
       "    <tr>\n",
       "      <th>2</th>\n",
       "      <td>3</td>\n",
       "      <td>32732</td>\n",
       "      <td>231</td>\n",
       "      <td>232</td>\n",
       "      <td>1</td>\n",
       "    </tr>\n",
       "    <tr>\n",
       "      <th>3</th>\n",
       "      <td>4</td>\n",
       "      <td>32754</td>\n",
       "      <td>122</td>\n",
       "      <td>211</td>\n",
       "      <td>0</td>\n",
       "    </tr>\n",
       "    <tr>\n",
       "      <th>4</th>\n",
       "      <td>5</td>\n",
       "      <td>24322</td>\n",
       "      <td>122</td>\n",
       "      <td>99</td>\n",
       "      <td>0</td>\n",
       "    </tr>\n",
       "  </tbody>\n",
       "</table>\n",
       "</div>"
      ],
      "text/plain": [
       "   0      1    2    3  4\n",
       "0  1  23600   11  211  1\n",
       "1  2  34246   11  112  0\n",
       "2  3  32732  231  232  1\n",
       "3  4  32754  122  211  0\n",
       "4  5  24322  122   99  0"
      ]
     },
     "execution_count": 22,
     "metadata": {},
     "output_type": "execute_result"
    }
   ],
   "source": [
    "table2.apply(lambda x:x.str.lower() if x.dtype == \"object\"else x)"
   ]
  },
  {
   "cell_type": "code",
   "execution_count": 23,
   "id": "c52884c9",
   "metadata": {},
   "outputs": [],
   "source": [
    "table1.drop_duplicates(inplace=True)"
   ]
  },
  {
   "cell_type": "code",
   "execution_count": 24,
   "id": "bfb579b4",
   "metadata": {},
   "outputs": [],
   "source": [
    "table2.drop_duplicates(inplace=True)"
   ]
  },
  {
   "cell_type": "code",
   "execution_count": 25,
   "id": "f66c15e9",
   "metadata": {},
   "outputs": [
    {
     "data": {
      "text/html": [
       "<div>\n",
       "<style scoped>\n",
       "    .dataframe tbody tr th:only-of-type {\n",
       "        vertical-align: middle;\n",
       "    }\n",
       "\n",
       "    .dataframe tbody tr th {\n",
       "        vertical-align: top;\n",
       "    }\n",
       "\n",
       "    .dataframe thead th {\n",
       "        text-align: right;\n",
       "    }\n",
       "</style>\n",
       "<table border=\"1\" class=\"dataframe\">\n",
       "  <thead>\n",
       "    <tr style=\"text-align: right;\">\n",
       "      <th></th>\n",
       "      <th>customer_id</th>\n",
       "      <th>gender</th>\n",
       "      <th>age</th>\n",
       "      <th>driving_license_presence</th>\n",
       "      <th>region_code</th>\n",
       "      <th>previously_insured</th>\n",
       "      <th>vehicle_age</th>\n",
       "      <th>vehicle_damage</th>\n",
       "      <th>annual_premium_INR</th>\n",
       "      <th>sales_channel_code</th>\n",
       "      <th>vintage</th>\n",
       "      <th>response</th>\n",
       "    </tr>\n",
       "  </thead>\n",
       "  <tbody>\n",
       "    <tr>\n",
       "      <th>0</th>\n",
       "      <td>1</td>\n",
       "      <td>Male</td>\n",
       "      <td>44</td>\n",
       "      <td>1</td>\n",
       "      <td>21</td>\n",
       "      <td>0</td>\n",
       "      <td>&lt;1yrs</td>\n",
       "      <td>Yes</td>\n",
       "      <td>23600</td>\n",
       "      <td>11</td>\n",
       "      <td>211</td>\n",
       "      <td>1</td>\n",
       "    </tr>\n",
       "    <tr>\n",
       "      <th>1</th>\n",
       "      <td>2</td>\n",
       "      <td>Male</td>\n",
       "      <td>34</td>\n",
       "      <td>1</td>\n",
       "      <td>5</td>\n",
       "      <td>1</td>\n",
       "      <td>&gt;2yrs</td>\n",
       "      <td>No</td>\n",
       "      <td>34246</td>\n",
       "      <td>11</td>\n",
       "      <td>112</td>\n",
       "      <td>0</td>\n",
       "    </tr>\n",
       "    <tr>\n",
       "      <th>2</th>\n",
       "      <td>3</td>\n",
       "      <td>Female</td>\n",
       "      <td>23</td>\n",
       "      <td>1</td>\n",
       "      <td>323</td>\n",
       "      <td>0</td>\n",
       "      <td>&gt;3yrs</td>\n",
       "      <td>Yes</td>\n",
       "      <td>32732</td>\n",
       "      <td>231</td>\n",
       "      <td>232</td>\n",
       "      <td>1</td>\n",
       "    </tr>\n",
       "    <tr>\n",
       "      <th>3</th>\n",
       "      <td>4</td>\n",
       "      <td>Male</td>\n",
       "      <td>54</td>\n",
       "      <td>1</td>\n",
       "      <td>225</td>\n",
       "      <td>1</td>\n",
       "      <td>&lt;1yrs</td>\n",
       "      <td>Yes</td>\n",
       "      <td>32754</td>\n",
       "      <td>122</td>\n",
       "      <td>211</td>\n",
       "      <td>0</td>\n",
       "    </tr>\n",
       "    <tr>\n",
       "      <th>4</th>\n",
       "      <td>5</td>\n",
       "      <td>Female</td>\n",
       "      <td>33</td>\n",
       "      <td>1</td>\n",
       "      <td>87</td>\n",
       "      <td>1</td>\n",
       "      <td>&lt;2yrs</td>\n",
       "      <td>No</td>\n",
       "      <td>24322</td>\n",
       "      <td>122</td>\n",
       "      <td>99</td>\n",
       "      <td>0</td>\n",
       "    </tr>\n",
       "  </tbody>\n",
       "</table>\n",
       "</div>"
      ],
      "text/plain": [
       "   customer_id  gender  age  driving_license_presence  region_code  \\\n",
       "0            1    Male   44                         1           21   \n",
       "1            2    Male   34                         1            5   \n",
       "2            3  Female   23                         1          323   \n",
       "3            4    Male   54                         1          225   \n",
       "4            5  Female   33                         1           87   \n",
       "\n",
       "   previously_insured vehicle_age vehicle_damage  annual_premium_INR  \\\n",
       "0                   0       <1yrs            Yes               23600   \n",
       "1                   1       >2yrs             No               34246   \n",
       "2                   0       >3yrs            Yes               32732   \n",
       "3                   1       <1yrs            Yes               32754   \n",
       "4                   1       <2yrs             No               24322   \n",
       "\n",
       "   sales_channel_code  vintage  response  \n",
       "0                  11      211         1  \n",
       "1                  11      112         0  \n",
       "2                 231      232         1  \n",
       "3                 122      211         0  \n",
       "4                 122       99         0  "
      ]
     },
     "execution_count": 25,
     "metadata": {},
     "output_type": "execute_result"
    }
   ],
   "source": [
    "data=pandas.merge(table1,table2,on='0')\n",
    "labels={'0':'customer_id','1_x':'gender','2_x':'age','3_x':'driving_license_presence','4_x':'region_code','5':'previously_insured','6':'vehicle_age','7':'vehicle_damage','1_y':'annual_premium_INR','2_y':'sales_channel_code','3_y':'vintage','4_y':'response'}\n",
    "data.rename(columns=labels,inplace=True)\n",
    "data"
   ]
  },
  {
   "cell_type": "code",
   "execution_count": 26,
   "id": "8eb13593",
   "metadata": {},
   "outputs": [
    {
     "data": {
      "text/plain": [
       "gender\n",
       "Female    28527.0\n",
       "Male      30200.0\n",
       "Name: annual_premium_INR, dtype: float64"
      ]
     },
     "execution_count": 26,
     "metadata": {},
     "output_type": "execute_result"
    }
   ],
   "source": [
    "data.groupby('gender')['annual_premium_INR'].mean()"
   ]
  },
  {
   "cell_type": "code",
   "execution_count": 27,
   "id": "1bdcd002",
   "metadata": {},
   "outputs": [],
   "source": [
    "res= data.groupby('age')['annual_premium_INR'].mean()"
   ]
  },
  {
   "cell_type": "code",
   "execution_count": 28,
   "id": "e01211f9",
   "metadata": {},
   "outputs": [
    {
     "data": {
      "image/png": "[encoded data removed]",
      "text/plain": [
       "<Figure size 432x288 with 1 Axes>"
      ]
     },
     "metadata": {
      "needs_background": "light"
     },
     "output_type": "display_data"
    }
   ],
   "source": [
    "import matplotlib.pyplot as pyplot\n",
    "res.plot()\n",
    "pyplot.show()"
   ]
  },
  {
   "cell_type": "code",
   "execution_count": 29,
   "id": "970007fa",
   "metadata": {},
   "outputs": [
    {
     "name": "stdout",
     "output_type": "stream",
     "text": [
      "male to female ration is 1.5\n",
      "generally, the standars is: \n",
      " balanced data ratio: 1.0 \n",
      " slightly balanced data ratio: 1.22-1.5 \n",
      " imbalanced data ratio: 4.0-9.0\n"
     ]
    }
   ],
   "source": [
    "print(f\"male to female ration is {round(data['gender'].value_counts()[0]/data['gender'].value_counts()[1],2)}\")\n",
    "print(f\"generally, the standars is: \\n balanced data ratio: {50/50} \\n slightly balanced data ratio: {round(55/45,2)}-{60/40} \\n imbalanced data ratio: {80/20}-{90/10}\")"
   ]
  },
  {
   "cell_type": "code",
   "execution_count": 30,
   "id": "a3a1ad93",
   "metadata": {},
   "outputs": [
    {
     "data": {
      "image/png": "[encoded data removed]",
      "text/plain": [
       "<Figure size 432x288 with 1 Axes>"
      ]
     },
     "metadata": {
      "needs_background": "light"
     },
     "output_type": "display_data"
    }
   ],
   "source": [
    "res1= data.groupby('vehicle_age')['annual_premium_INR'].mean()\n",
    "import matplotlib.pyplot as pyplot\n",
    "res1.plot()\n",
    "pyplot.show()"
   ]
  },
  {
   "cell_type": "code",
   "execution_count": 31,
   "id": "aea14536",
   "metadata": {},
   "outputs": [
    {
     "name": "stdout",
     "output_type": "stream",
     "text": [
      "There is no relationship!\n"
     ]
    }
   ],
   "source": [
    "n = data['age'].corr(data['annual_premium_INR'])\n",
    "if n<-0.5:\n",
    "    print(\"Strong negative relationship\")\n",
    "if n>0.5:\n",
    "    print(\"Strong positive relationship\")\n",
    "if n>-0.5 and n<0.5:\n",
    "    print(\"There is no relationship!\")"
   ]
  },
  {
   "cell_type": "code",
   "execution_count": null,
   "id": "635ddaf4",
   "metadata": {},
   "outputs": [],
   "source": []
  },
  {
   "cell_type": "code",
   "execution_count": null,
   "id": "696d7f84",
   "metadata": {},
   "outputs": [],
   "source": []
  }
 ],
 "metadata": {
  "kernelspec": {
   "display_name": "Python 3 (ipykernel)",
   "language": "python",
   "name": "python3"
  },
  "language_info": {
   "codemirror_mode": {
    "name": "ipython",
    "version": 3
   },
   "file_extension": ".py",
   "mimetype": "text/x-python",
   "name": "python",
   "nbconvert_exporter": "python",
   "pygments_lexer": "ipython3",
   "version": "3.9.13"
  }
 },
 "nbformat": 4,
 "nbformat_minor": 5
}
